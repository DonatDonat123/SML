{
 "cells": [
  {
   "cell_type": "code",
   "execution_count": 2,
   "metadata": {
    "collapsed": true
   },
   "outputs": [],
   "source": [
    "import numpy as np\n",
    "\n",
    "def sigmoid(x):\n",
    "    return 1 / (1 + np.exp(-x))\n",
    "def pc1(weights, phi): # p(c1|Phi) = y(Phi)\n",
    "    return sigmoid(np.dot(phi,weights))\n",
    "def R_func(y):\n",
    "    R = np.zeros([len(y), len(y)])\n",
    "    for i in range(0, len(y)):\n",
    "        R[i,i] = y[i]*(1-y[i])\n",
    "    return R\n",
    "def w_new(w_old, phi, t): # The update Rule\n",
    "    # convert everything to numpy matrices so we can write the code cleaner\n",
    "    y = np.asmatrix(pc1(w_old, phi))\n",
    "    t = np.asmatrix(t)\n",
    "    R = np.asmatrix(R_func(y))\n",
    "    phi = np.asmatrix(phi)\n",
    "    w_new = w_old - np.linalg.inv(phi.T * R * phi) * phi.T * (y-t)\n",
    "    return w_new"
   ]
  },
  {
   "cell_type": "code",
   "execution_count": 3,
   "metadata": {},
   "outputs": [
    {
     "name": "stdout",
     "output_type": "stream",
     "text": [
      "[[  9.78227684]\n",
      " [-21.73839298]]\n"
     ]
    }
   ],
   "source": [
    "# Deplpy w_new function\n",
    "wNew = np.asmatrix([1.0,1.0]).T # Initialize weights\n",
    "weights = [wNew]\n",
    "n = 10 # number of iterations for updating\n",
    "phi = np.asmatrix([[1,0.3], [1, 0.44], [1, 0.46], [1, 0.6]])\n",
    "t = np.asmatrix([1,0,1,0]).T\n",
    "for i in range(0,n):\n",
    "    wNew = w_new(wNew, phi, t)\n",
    "    weights.append(wNew)\n",
    "print wNew"
   ]
  },
  {
   "cell_type": "code",
   "execution_count": 129,
   "metadata": {},
   "outputs": [
    {
     "data": {
      "text/plain": [
       "(101,)"
      ]
     },
     "execution_count": 129,
     "metadata": {},
     "output_type": "execute_result"
    }
   ],
   "source": [
    "# Schmierballt\n",
    "weights_plot[:,1].ravel().shape"
   ]
  },
  {
   "cell_type": "code",
   "execution_count": 141,
   "metadata": {},
   "outputs": [
    {
     "name": "stdout",
     "output_type": "stream",
     "text": [
      "(11, 2, 1)\n"
     ]
    },
    {
     "data": {
      "image/png": "[encoded data removed]",
      "text/plain": [
       "<matplotlib.figure.Figure at 0x7fd0e4711f10>"
      ]
     },
     "metadata": {},
     "output_type": "display_data"
    }
   ],
   "source": [
    "# Le Plot\n",
    "import matplotlib.pyplot as plt\n",
    "\n",
    "fig1 = plt.figure(1, figsize=(6,4), dpi=120)\n",
    "weights_plot  = np.asarray(weights)\n",
    "print weights_plot.shape\n",
    "plt.plot(range(0,n+1), weights_plot[:,0].ravel(), label = 'w0')\n",
    "plt.plot(range(0,n+1), weights_plot[:,1].ravel(), label = 'w1')\n",
    "plt.legend()\n",
    "plt.xlabel('time steps')\n",
    "plt.ylabel('weight value')\n",
    "plt.show()\n",
    "fig1.savefig('weightConvergence')"
   ]
  },
  {
   "cell_type": "code",
   "execution_count": null,
   "metadata": {
    "collapsed": true
   },
   "outputs": [],
   "source": []
  }
 ],
 "metadata": {
  "kernelspec": {
   "display_name": "Python 2",
   "language": "python",
   "name": "python2"
  },
  "language_info": {
   "codemirror_mode": {
    "name": "ipython",
    "version": 2
   },
   "file_extension": ".py",
   "mimetype": "text/x-python",
   "name": "python",
   "nbconvert_exporter": "python",
   "pygments_lexer": "ipython2",
   "version": "2.7.12"
  }
 },
 "nbformat": 4,
 "nbformat_minor": 2
}
